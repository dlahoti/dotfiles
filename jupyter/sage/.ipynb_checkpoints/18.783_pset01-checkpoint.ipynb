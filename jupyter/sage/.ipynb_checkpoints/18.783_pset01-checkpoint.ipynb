{
 "cells": [
  {
   "cell_type": "markdown",
   "metadata": {},
   "source": [
    "# Problem 4(a)"
   ]
  },
  {
   "cell_type": "code",
   "execution_count": 38,
   "metadata": {
    "collapsed": false,
    "scrolled": true
   },
   "outputs": [
    {
     "name": "stdout",
     "output_type": "stream",
     "text": [
      "5 2 0\n",
      "7 1 -4\n",
      "11 2 0\n",
      "13 1 2\n",
      "17 2 0\n",
      "19 1 8\n",
      "23 2 0\n",
      "29 2 0\n",
      "31 1 -4\n",
      "37 1 -10\n",
      "41 2 0\n",
      "43 1 8\n",
      "47 2 0\n",
      "53 2 0\n",
      "59 2 0\n",
      "61 1 14\n",
      "67 1 -16\n",
      "71 2 0\n",
      "73 1 -10\n",
      "79 1 -4\n",
      "83 2 0\n",
      "89 2 0\n",
      "97 1 14\n",
      "101 2 0\n",
      "103 1 20\n",
      "107 2 0\n",
      "109 1 2\n",
      "113 2 0\n",
      "127 1 20\n",
      "131 2 0\n",
      "137 2 0\n",
      "139 1 -16\n",
      "149 2 0\n",
      "151 1 -4\n",
      "157 1 14\n",
      "163 1 8\n",
      "167 2 0\n",
      "173 2 0\n",
      "179 2 0\n",
      "181 1 26\n",
      "191 2 0\n",
      "193 1 2\n",
      "197 2 0\n",
      "199 1 -28\n"
     ]
    }
   ],
   "source": [
    "E = EllipticCurve([0, 1])\n",
    "for p in primes(0, 200):\n",
    "    if E.has_good_reduction(p):\n",
    "        print p, p % 3, E.ap(p)"
   ]
  },
  {
   "cell_type": "markdown",
   "metadata": {},
   "source": [
    "It appears that $a_p = 0$ just in case $p \\equiv 2 \\pmod{3}$. We test this hypothesis below."
   ]
  },
  {
   "cell_type": "code",
   "execution_count": 13,
   "metadata": {
    "collapsed": false
   },
   "outputs": [
    {
     "name": "stdout",
     "output_type": "stream",
     "text": [
      "Success!\n"
     ]
    }
   ],
   "source": [
    "E = EllipticCurve([0, 1])\n",
    "succ = True\n",
    "for p in primes(0, 2^10):\n",
    "    ap = E.ap(p)\n",
    "    if p % 3 == 2 and ap != 0:\n",
    "        print \"Counterexample:\", p, ap\n",
    "        succ = False\n",
    "    elif p % 3 == 1 and ap == 0:\n",
    "        print \"Counterexample:\", p, ap\n",
    "        succ = False\n",
    "if succ:\n",
    "    print \"Success!\""
   ]
  },
  {
   "cell_type": "markdown",
   "metadata": {},
   "source": [
    "# Problem 4(b)"
   ]
  },
  {
   "cell_type": "code",
   "execution_count": 28,
   "metadata": {
    "collapsed": false
   },
   "outputs": [
    {
     "name": "stdout",
     "output_type": "stream",
     "text": [
      "[1.00000000000000, 0.0191919551375288, 0.974437923028614, 0.0757290006118743, 2.90104856307582, 0.286491303398588, 9.60224623592909, 1.02756951914680, 33.3934539835098, 3.60144887021703, 119.530317596622]\n",
      "[1.00000000000000, -0.000493074520268084, 0.992040215885212, 0.00177951549630962, 2.96686777872802, 0.0154888359387161, 9.86487486536403, 0.0735642904541910, 34.4539812008748, 0.296684375784803, 123.798757963793]\n",
      "[1.00000000000000, 0.00180817961697561, 0.998168176351889, 0.00730324795415838, 2.99188913386525, 0.0285562236048521, 9.96615603239180, 0.110063371845773, 34.8623864976199, 0.420665355839438, 125.448278077213]\n",
      "[1.00000000000000, -0.0000930448718027475, 0.999277215116771, -9.28353894872521e-7, 2.99740396811226, 0.000368674831721141, 9.99007274023070, 0.00201918347864235, 34.9606727131775, 0.00884038388627102, 125.841644174587]\n"
     ]
    }
   ],
   "source": [
    "E = EllipticCurve([0, 1])\n",
    "A = E.aplist(2^24)\n",
    "P = prime_range(0, 2^24)\n",
    "X = [A[i]/sqrt(RR(P[i])) for i in range(0,len(A))]\n",
    "for k in [12, 16, 20, 24]:\n",
    "    l = len(prime_range(0, 2^k))\n",
    "    M = [sum([X[i]^n for i in range(0, l)])/l for n in [0..10]]\n",
    "    print M"
   ]
  },
  {
   "cell_type": "markdown",
   "metadata": {},
   "source": [
    "This appears to be $\\binom{2m-1}{m}$ for $n = 2m > 0$, $1$ for $n = 0$, and $0$ otherwise. OEIS was used to find this information. We now test $n = 12, 14$."
   ]
  },
  {
   "cell_type": "code",
   "execution_count": 66,
   "metadata": {
    "collapsed": false
   },
   "outputs": [
    {
     "name": "stdout",
     "output_type": "stream",
     "text": [
      "[436.049752153125, 1612.22730730014]\n",
      "[453.128240395453, 1680.23994543695]\n",
      "[459.804981598033, 1707.30329659689]\n",
      "[461.358022148833, 1713.39106343907]\n"
     ]
    }
   ],
   "source": [
    "E = EllipticCurve([0, 1])\n",
    "A = E.aplist(2^24)\n",
    "P = prime_range(0, 2^24)\n",
    "X = [A[i]/sqrt(RR(P[i])) for i in range(0,len(A))]\n",
    "for k in [12, 16, 20, 24]:\n",
    "    l = len(prime_range(0, 2^k))\n",
    "    M = [sum([X[i]^n for i in range(0, l)])/l for n in [12, 14]]\n",
    "    print M"
   ]
  },
  {
   "cell_type": "markdown",
   "metadata": {},
   "source": [
    "These appear to be converging to the expected values of $462$ and $1716$."
   ]
  },
  {
   "cell_type": "markdown",
   "metadata": {},
   "source": [
    "# Problem 4(c)"
   ]
  },
  {
   "cell_type": "code",
   "execution_count": 60,
   "metadata": {
    "collapsed": false
   },
   "outputs": [
    {
     "name": "stdout",
     "output_type": "stream",
     "text": [
      "Elliptic Curve defined by y^2 = x^3 - 595*x + 5586 over Rational Field 2^12 * 7^3\n",
      "3 0\n",
      "5 0\n",
      "11 -4\n",
      "13 0\n",
      "17 0\n",
      "19 0\n",
      "23 -8\n",
      "29 2\n",
      "31 0\n",
      "37 -6\n",
      "41 0\n",
      "43 12\n",
      "47 0\n",
      "53 -10\n",
      "59 0\n",
      "61 0\n",
      "67 -4\n",
      "71 -16\n",
      "73 0\n",
      "79 -8\n",
      "83 0\n",
      "89 0\n",
      "97 0\n",
      "101 0\n",
      "103 0\n",
      "107 20\n",
      "109 18\n",
      "113 2\n",
      "127 -16\n",
      "131 0\n",
      "137 -10\n",
      "139 0\n",
      "149 22\n",
      "151 24\n",
      "157 0\n",
      "163 20\n",
      "167 0\n",
      "173 0\n",
      "179 -4\n",
      "181 0\n",
      "191 -8\n",
      "193 18\n",
      "197 -26\n",
      "199 0\n",
      "\n",
      "Elliptic Curve defined by y^2 = x^3 - 608*x + 5776 over Rational Field -1 * 19^3\n",
      "2 0\n",
      "3 0\n",
      "5 -1\n",
      "7 3\n",
      "11 -5\n",
      "13 0\n",
      "17 -7\n",
      "23 -4\n",
      "29 0\n",
      "31 0\n",
      "37 0\n",
      "41 0\n",
      "43 -1\n",
      "47 13\n",
      "53 0\n",
      "59 0\n",
      "61 15\n",
      "67 0\n",
      "71 0\n",
      "73 -11\n",
      "79 0\n",
      "83 -16\n",
      "89 0\n",
      "97 0\n",
      "101 10\n",
      "103 0\n",
      "107 0\n",
      "109 0\n",
      "113 0\n",
      "127 0\n",
      "131 -7\n",
      "137 -23\n",
      "139 -9\n",
      "149 -11\n",
      "151 0\n",
      "157 18\n",
      "163 -24\n",
      "167 0\n",
      "173 0\n",
      "179 0\n",
      "181 0\n",
      "191 -17\n",
      "193 0\n",
      "197 22\n",
      "199 -25\n",
      "\n",
      "Elliptic Curve defined by y^2 = x^3 - 9504*x + 365904 over Rational Field -1 * 11^3\n",
      "2 0\n",
      "3 -1\n",
      "5 -3\n",
      "7 0\n",
      "13 0\n",
      "17 0\n",
      "19 0\n",
      "23 -9\n",
      "29 0\n",
      "31 -5\n",
      "37 7\n",
      "41 0\n",
      "43 0\n",
      "47 -12\n",
      "53 6\n",
      "59 -15\n",
      "61 0\n",
      "67 13\n",
      "71 -3\n",
      "73 0\n",
      "79 0\n",
      "83 0\n",
      "89 -9\n",
      "97 17\n",
      "101 0\n",
      "103 -4\n",
      "107 0\n",
      "109 0\n",
      "113 21\n",
      "127 0\n",
      "131 0\n",
      "137 -3\n",
      "139 0\n",
      "149 0\n",
      "151 0\n",
      "157 -23\n",
      "163 -16\n",
      "167 0\n",
      "173 0\n",
      "179 21\n",
      "181 -25\n",
      "191 -15\n",
      "193 0\n",
      "197 0\n",
      "199 -20\n",
      "\n"
     ]
    }
   ],
   "source": [
    "for E in map(EllipticCurve, [[-595, 5586], [-608, 5776], [-9504, 365904]]):\n",
    "    print E, factor(E.minimal_model().discriminant())\n",
    "    for p in primes(0, 200):\n",
    "        if E.has_good_reduction(p):\n",
    "            print p, E.ap(p)\n",
    "    print"
   ]
  },
  {
   "cell_type": "markdown",
   "metadata": {},
   "source": [
    "From OEIS, it appears that $a_p = 0$ when either $p = 2$ or $p$ is nonsquare modulo $7$, $19$, and $11$, respectively. These are the least odd primes at which the curves have poor reduction, i.e. the least odd primes dividing the discriminants of the minimal models of the curves. We check this below."
   ]
  },
  {
   "cell_type": "code",
   "execution_count": 63,
   "metadata": {
    "collapsed": false
   },
   "outputs": [
    {
     "name": "stdout",
     "output_type": "stream",
     "text": [
      "Success!\n"
     ]
    }
   ],
   "source": [
    "succ = True\n",
    "for E in map(EllipticCurve, [[-595, 5586], [-608, 5776], [-9504, 365904]]):\n",
    "    disc = dict(factor(E.minimal_model().discriminant()))\n",
    "    disc[2] = None\n",
    "    del disc[2]\n",
    "    mp = min(disc.keys())\n",
    "    for p in primes(3, 2^10):\n",
    "        ap = E.ap(p)\n",
    "        if kronecker(p, mp) == -1 and ap != 0:\n",
    "            print \"Counterexample:\", E, p, ap\n",
    "            succ = False\n",
    "        elif kronecker(p, mp) == 1 and ap == 0:\n",
    "            print \"Counterexample:\", E, p, ap\n",
    "            succ = False\n",
    "if succ:\n",
    "    print \"Success!\""
   ]
  },
  {
   "cell_type": "markdown",
   "metadata": {},
   "source": [
    "We now look at the moment statistics."
   ]
  },
  {
   "cell_type": "code",
   "execution_count": 64,
   "metadata": {
    "collapsed": false
   },
   "outputs": [
    {
     "name": "stdout",
     "output_type": "stream",
     "text": [
      "[1.00000000000000, -0.0000389890638436595, 0.999491768852443, -0.000377471603887925, 2.99795542984206, -0.00223916739547783, 9.99170973896100, -0.00964365679300189, 34.9666969045547, -0.0371675962124562, 125.867067930583]\n",
      "[1.00000000000000, -0.000502205287382821, 0.999356622707972, -0.00209939078938414, 2.99768585503490, -0.00831945091035449, 9.99124903323378, -0.0317300509174316, 34.9655028307217, -0.120136563211470, 125.861090164879]\n",
      "[1.00000000000000, -0.000379049989050029, 0.999845806212390, -0.000691855226226293, 2.99915147773717, -0.00160639708638816, 9.99630832228896, -0.00459826220963397, 34.9845690126885, -0.0155903098033883, 125.936347263222]\n"
     ]
    }
   ],
   "source": [
    "P = prime_range(0, 2^24)\n",
    "for E in map(EllipticCurve, [[-595, 5586], [-608, 5776], [-9504, 365904]]):\n",
    "    A = E.aplist(2^24)\n",
    "    X = [A[i]/sqrt(RR(P[i])) for i in range(0,len(A))]\n",
    "    M = [sum([a^n for a in X])/len(X) for n in [0..10]]\n",
    "    print M"
   ]
  },
  {
   "cell_type": "markdown",
   "metadata": {},
   "source": [
    "These indeed appear to converge to the same sequence conjectured in (b)."
   ]
  },
  {
   "cell_type": "markdown",
   "metadata": {},
   "source": [
    "# Problem 4(d)"
   ]
  },
  {
   "cell_type": "code",
   "execution_count": 71,
   "metadata": {
    "collapsed": false
   },
   "outputs": [
    {
     "name": "stdout",
     "output_type": "stream",
     "text": [
      "3 0 0 1\n",
      "5 0 0 -1\n",
      "11 -4 4 -1\n",
      "13 0 0 1\n",
      "17 0 0 1\n",
      "19 0 0 1\n",
      "23 -8 -8 1\n",
      "29 2 -2 -1\n",
      "31 0 0 -1\n",
      "37 -6 6 -1\n",
      "41 0 0 -1\n",
      "43 12 -12 -1\n",
      "47 0 0 -1\n",
      "53 -10 -10 1\n",
      "59 0 0 1\n",
      "61 0 0 1\n",
      "67 -4 4 -1\n",
      "71 -16 -16 1\n",
      "73 0 0 1\n",
      "79 -8 8 -1\n",
      "83 0 0 -1\n",
      "89 0 0 1\n",
      "97 0 0 1\n",
      "101 0 0 -1\n",
      "103 0 0 1\n",
      "107 20 -20 -1\n",
      "109 18 -18 -1\n",
      "113 2 2 1\n",
      "127 -16 -16 1\n",
      "131 0 0 1\n",
      "137 -10 -10 1\n",
      "139 0 0 1\n",
      "149 22 22 1\n",
      "151 24 -24 -1\n",
      "157 0 0 1\n",
      "163 20 20 1\n",
      "167 0 0 1\n",
      "173 0 0 -1\n",
      "179 -4 4 -1\n",
      "181 0 0 -1\n",
      "191 -8 8 -1\n",
      "193 18 -18 -1\n",
      "197 -26 -26 1\n",
      "199 0 0 1\n",
      "[1.00000000000000, -0.000259025305365256, 0.999491768852443, -0.00247659179853461, 2.99795542984206, -0.0107804555595267, 9.99170973896100, -0.0431550542461821, 34.9666969045547, -0.169402330301520, 125.867067930583]\n"
     ]
    }
   ],
   "source": [
    "idn = 4072\n",
    "E1 = EllipticCurve([-595, 5586])\n",
    "E2 = E1.quadratic_twist(idn)\n",
    "for p in primes(0, 200):\n",
    "    if E1.has_good_reduction(p):\n",
    "        print p, E1.ap(p), E2.ap(p), kronecker(idn, p)\n",
    "A = E.aplist(2^24)\n",
    "X = [A[i]/sqrt(RR(P[i])) for i in range(0,len(A))]\n",
    "M = [sum([a^n for a in X])/len(X) for n in [0..10]]\n",
    "print M"
   ]
  },
  {
   "cell_type": "markdown",
   "metadata": {},
   "source": [
    "The values of $a_p$ appear to be the same, except negated when $4072$ is not a square modulo $p$. The moment statistics are approximately the same."
   ]
  }
 ],
 "metadata": {
  "kernelspec": {
   "display_name": "SageMath 7.4",
   "language": "",
   "name": "sagemath"
  },
  "language_info": {
   "codemirror_mode": {
    "name": "ipython",
    "version": 2
   },
   "file_extension": ".py",
   "mimetype": "text/x-python",
   "name": "python",
   "nbconvert_exporter": "python",
   "pygments_lexer": "ipython2",
   "version": "2.7.12"
  }
 },
 "nbformat": 4,
 "nbformat_minor": 2
}
